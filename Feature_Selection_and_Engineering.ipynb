{
  "nbformat": 4,
  "nbformat_minor": 0,
  "metadata": {
    "colab": {
      "provenance": []
    },
    "kernelspec": {
      "name": "python3",
      "display_name": "Python 3"
    },
    "language_info": {
      "name": "python"
    }
  },
  "cells": [
    {
      "cell_type": "code",
      "execution_count": 5,
      "metadata": {
        "id": "Bz3xjJJQFNXl"
      },
      "outputs": [],
      "source": [
        "import pandas as pd\n",
        "from sklearn.feature_selection import SelectKBest, f_regression\n",
        "from sklearn.preprocessing import PolynomialFeatures\n",
        "from sklearn.datasets import load_breast_cancer"
      ]
    },
    {
      "cell_type": "code",
      "source": [
        "# Load preprocessed data\n",
        "data = load_breast_cancer()\n",
        "df = pd.DataFrame(data.data, columns=data.feature_names)\n",
        "X = df\n",
        "y = data.target"
      ],
      "metadata": {
        "id": "x-hOB0wvFdp7"
      },
      "execution_count": 6,
      "outputs": []
    },
    {
      "cell_type": "code",
      "source": [
        "# Feature selection using correlation\n",
        "correlation = X.corrwith(pd.Series(y)).abs().sort_values(ascending=False)\n",
        "selected_features = correlation[correlation > 0.5].index.tolist()"
      ],
      "metadata": {
        "id": "eviH3h3EFrcw"
      },
      "execution_count": 8,
      "outputs": []
    },
    {
      "cell_type": "code",
      "source": [
        "# Create polynomial features\n",
        "poly = PolynomialFeatures(degree=2, include_bias=False)\n",
        "X_poly = poly.fit_transform(X[selected_features])"
      ],
      "metadata": {
        "id": "7P4dDeAFFsyz"
      },
      "execution_count": 9,
      "outputs": []
    },
    {
      "cell_type": "code",
      "source": [
        "# Select top K features\n",
        "selector = SelectKBest(score_func=f_regression, k=10)\n",
        "X_selected = selector.fit_transform(X_poly, y)"
      ],
      "metadata": {
        "id": "syIXvcaYFugQ"
      },
      "execution_count": 10,
      "outputs": []
    },
    {
      "cell_type": "code",
      "source": [
        "selected_feature_names = poly.get_feature_names_out(input_features=selected_features)[selector.get_support()]\n",
        "print(\"Selected features:\", selected_feature_names.tolist())\n",
        "print(\"Shape of selected features:\", X_selected.shape)"
      ],
      "metadata": {
        "colab": {
          "base_uri": "https://localhost:8080/"
        },
        "id": "Dg1gRB2QFvtM",
        "outputId": "beb915fa-57d4-4e25-bb2f-cf5548ed0b33"
      },
      "execution_count": 12,
      "outputs": [
        {
          "output_type": "stream",
          "name": "stdout",
          "text": [
            "Selected features: ['worst concave points', 'worst perimeter', 'mean concave points', 'worst radius', 'worst concave points^2', 'worst concave points worst perimeter', 'worst concave points worst radius', 'worst concave points mean perimeter', 'worst concave points mean radius', 'worst radius worst concavity']\n",
            "Shape of selected features: (569, 10)\n"
          ]
        }
      ]
    }
  ]
}