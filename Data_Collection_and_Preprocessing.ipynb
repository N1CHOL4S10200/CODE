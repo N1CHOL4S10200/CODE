{
  "nbformat": 4,
  "nbformat_minor": 0,
  "metadata": {
    "colab": {
      "provenance": []
    },
    "kernelspec": {
      "name": "python3",
      "display_name": "Python 3"
    },
    "language_info": {
      "name": "python"
    }
  },
  "cells": [
    {
      "cell_type": "code",
      "execution_count": 27,
      "metadata": {
        "id": "AUclrrRS9sgz"
      },
      "outputs": [],
      "source": [
        "import pandas as pd\n",
        "import numpy as np\n",
        "from sklearn.preprocessing import StandardScaler\n",
        "from sklearn.datasets import load_diabetes\n"
      ]
    },
    {
      "cell_type": "code",
      "source": [
        "# Load data from CSV file\n",
        "data = load_diabetes()"
      ],
      "metadata": {
        "id": "eg_-tcu0_ocm"
      },
      "execution_count": 28,
      "outputs": []
    },
    {
      "cell_type": "code",
      "source": [
        "# Convert to Pandas DataFrame for easier manipulation\n",
        "df = pd.DataFrame(data.data, columns=data.feature_names)"
      ],
      "metadata": {
        "id": "oT_8hhUMCr13"
      },
      "execution_count": 29,
      "outputs": []
    },
    {
      "cell_type": "code",
      "source": [
        "# Handle missing values\n",
        "df['age'].fillna(df['age'].mean(), inplace=True)\n",
        "df['bp'].fillna(df['bp'].median(), inplace=True)"
      ],
      "metadata": {
        "id": "guuDp0Rz_qAy"
      },
      "execution_count": 30,
      "outputs": []
    },
    {
      "cell_type": "code",
      "source": [
        "# Remove duplicates\n",
        "df.drop_duplicates(inplace=True)"
      ],
      "metadata": {
        "id": "ds-SP0cK_sAU"
      },
      "execution_count": 31,
      "outputs": []
    },
    {
      "source": [
        "print(df.columns)"
      ],
      "cell_type": "code",
      "metadata": {
        "colab": {
          "base_uri": "https://localhost:8080/"
        },
        "id": "8OZGgn65D_M_",
        "outputId": "91531f56-6a5c-4e43-ea4c-f57aad42e670"
      },
      "execution_count": 32,
      "outputs": [
        {
          "output_type": "stream",
          "name": "stdout",
          "text": [
            "Index(['age', 'sex', 'bmi', 'bp', 's1', 's2', 's3', 's4', 's5', 's6'], dtype='object')\n"
          ]
        }
      ]
    },
    {
      "cell_type": "code",
      "source": [
        "# Convert categorical variables to numerical\n",
        "df = pd.get_dummies(df, columns=['s5', 's6'])"
      ],
      "metadata": {
        "id": "o7QERXcU_t2J"
      },
      "execution_count": 33,
      "outputs": []
    },
    {
      "cell_type": "code",
      "source": [
        "# Scale numerical features\n",
        "scaler = StandardScaler()\n",
        "numerical_features = ['age', 'bp']\n",
        "df[numerical_features] = scaler.fit_transform(df[numerical_features])"
      ],
      "metadata": {
        "id": "MuOkP8Cl_vRr"
      },
      "execution_count": 36,
      "outputs": []
    },
    {
      "cell_type": "code",
      "source": [
        "print(df.head())\n",
        "print(df.info())"
      ],
      "metadata": {
        "colab": {
          "base_uri": "https://localhost:8080/"
        },
        "id": "W5PQb1lv_xjG",
        "outputId": "c9dedc3e-2ac1-49ee-a4a3-c5a9319d7aed"
      },
      "execution_count": 38,
      "outputs": [
        {
          "output_type": "stream",
          "name": "stdout",
          "text": [
            "        age       sex       bmi        bp        s1        s2        s3  \\\n",
            "0  0.800500  0.050680  0.061696  0.459841 -0.044223 -0.034821 -0.043401   \n",
            "1 -0.039567 -0.044642 -0.051474 -0.553505 -0.008449 -0.019163  0.074412   \n",
            "2  1.793307  0.050680  0.044451 -0.119214 -0.045599 -0.034194 -0.032356   \n",
            "3 -1.872441 -0.044642 -0.011595 -0.770650  0.012191  0.024991 -0.036038   \n",
            "4  0.113172 -0.044642 -0.036385  0.459841  0.003935  0.015596  0.008142   \n",
            "\n",
            "         s4  s5_-0.12609712083330468  s5_-0.10436552421115437  ...  \\\n",
            "0 -0.002592                    False                    False  ...   \n",
            "1 -0.039493                    False                    False  ...   \n",
            "2 -0.002592                    False                    False  ...   \n",
            "3  0.034309                    False                    False  ...   \n",
            "4 -0.002592                    False                    False  ...   \n",
            "\n",
            "   s6_0.08176444079622315  s6_0.0859065477110576  s6_0.09004865462589207  \\\n",
            "0                   False                  False                   False   \n",
            "1                   False                  False                   False   \n",
            "2                   False                  False                   False   \n",
            "3                   False                  False                   False   \n",
            "4                   False                  False                   False   \n",
            "\n",
            "   s6_0.09419076154072652  s6_0.09833286845556097  s6_0.1066170822852299  \\\n",
            "0                   False                   False                  False   \n",
            "1                   False                   False                  False   \n",
            "2                   False                   False                  False   \n",
            "3                   False                   False                  False   \n",
            "4                   False                   False                  False   \n",
            "\n",
            "   s6_0.11904340302973325  s6_0.12732761685940217  s6_0.13146972377423663  \\\n",
            "0                   False                   False                   False   \n",
            "1                   False                   False                   False   \n",
            "2                   False                   False                   False   \n",
            "3                   False                   False                   False   \n",
            "4                   False                   False                   False   \n",
            "\n",
            "   s6_0.13561183068907107  \n",
            "0                   False  \n",
            "1                   False  \n",
            "2                   False  \n",
            "3                   False  \n",
            "4                   False  \n",
            "\n",
            "[5 rows x 248 columns]\n",
            "<class 'pandas.core.frame.DataFrame'>\n",
            "RangeIndex: 442 entries, 0 to 441\n",
            "Columns: 248 entries, age to s6_0.13561183068907107\n",
            "dtypes: bool(240), float64(8)\n",
            "memory usage: 131.3 KB\n",
            "None\n"
          ]
        }
      ]
    }
  ]
}