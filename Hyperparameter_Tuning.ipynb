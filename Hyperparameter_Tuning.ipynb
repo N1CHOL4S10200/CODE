{
  "nbformat": 4,
  "nbformat_minor": 0,
  "metadata": {
    "colab": {
      "provenance": []
    },
    "kernelspec": {
      "name": "python3",
      "display_name": "Python 3"
    },
    "language_info": {
      "name": "python"
    }
  },
  "cells": [
    {
      "cell_type": "code",
      "execution_count": 1,
      "metadata": {
        "id": "8JIPlH0cc4As"
      },
      "outputs": [],
      "source": [
        "import numpy as np\n",
        "from sklearn.model_selection import GridSearchCV, RandomizedSearchCV\n",
        "from sklearn.ensemble import RandomForestClassifier\n",
        "from sklearn.datasets import make_classification\n",
        "from sklearn.model_selection import train_test_split"
      ]
    },
    {
      "cell_type": "code",
      "source": [
        "# Generate sample data\n",
        "X, y = make_classification(n_samples=1000, n_features=20, n_informative=15, n_classes=2, random_state=42)"
      ],
      "metadata": {
        "id": "cGGPahmqdTxB"
      },
      "execution_count": 2,
      "outputs": []
    },
    {
      "cell_type": "code",
      "source": [
        "#Split the data\n",
        "X_train, X_test, y_train, y_test = train_test_split(X, y, test_size=0.2, random_state=42)"
      ],
      "metadata": {
        "id": "Dp1oFJ1FdVHf"
      },
      "execution_count": 3,
      "outputs": []
    },
    {
      "cell_type": "code",
      "source": [
        "#Define the model\n",
        "model = RandomForestClassifier(random_state=42)"
      ],
      "metadata": {
        "id": "U8DUAjlYdaWC"
      },
      "execution_count": 4,
      "outputs": []
    },
    {
      "cell_type": "code",
      "source": [
        "# Define the hyperparameter grid\n",
        "param_grid = {\n",
        "        'n_estimators': [100, 200, 300],\n",
        "        'max_depth': [None, 5, 10],\n",
        "        'min_samples_split': [2, 5, 10],\n",
        "        'min_samples_leaf': [1, 2, 4]\n",
        "}"
      ],
      "metadata": {
        "id": "OYRuIjC0dc0T"
      },
      "execution_count": 5,
      "outputs": []
    },
    {
      "cell_type": "code",
      "source": [
        "# Perform Grid Search\n",
        "grid_search = GridSearchCV(model, param_grid, cv=5, n_jobs=-1)\n",
        "grid_search.fit(X_train, y_train)\n",
        "\n",
        "print(\"Grid Search Results:\")\n",
        "print(f\"Best parameters: {grid_search.best_params_}\")\n",
        "print (f\"Best cross-validation score: {grid_search.best_score_:.4f}\")"
      ],
      "metadata": {
        "id": "o-K7ThyBdrGX",
        "colab": {
          "base_uri": "https://localhost:8080/"
        },
        "outputId": "46b77519-34f1-4912-fde1-9d9692fc595c"
      },
      "execution_count": 6,
      "outputs": [
        {
          "output_type": "stream",
          "name": "stdout",
          "text": [
            "Grid Search Results:\n",
            "Best parameters: {'max_depth': 10, 'min_samples_leaf': 1, 'min_samples_split': 2, 'n_estimators': 200}\n",
            "Best cross-validation score: 0.9100\n"
          ]
        }
      ]
    },
    {
      "cell_type": "code",
      "source": [
        "random_search = RandomizedSearchCV(model, param_distributions=param_grid,\n",
        "n_iter=20, cv=5, random_state=42, n_jobs=-1)\n",
        "random_search.fit(X_train, y_train)\n",
        "print(\"\\nRandom Search Results:\")\n",
        "print (f\"Best parameters: {random_search.best_params_}\")\n",
        "print(f\"Best cross-validation score: {random_search.best_score_:.4f}\")"
      ],
      "metadata": {
        "id": "kfp68hxbfs87",
        "colab": {
          "base_uri": "https://localhost:8080/"
        },
        "outputId": "161bbafa-b922-4882-921e-060461aa5bb8"
      },
      "execution_count": 10,
      "outputs": [
        {
          "output_type": "stream",
          "name": "stdout",
          "text": [
            "\n",
            "Random Search Results:\n",
            "Best parameters: {'n_estimators': 200, 'min_samples_split': 2, 'min_samples_leaf': 1, 'max_depth': 10}\n",
            "Best cross-validation score: 0.9100\n"
          ]
        }
      ]
    },
    {
      "cell_type": "code",
      "source": [
        "best_model =grid_search.best_estimator_\n",
        "test_score = best_model.score (X_test, y_test)\n",
        "print(\"\\nTest set score with best model: (test_score:.4f}\")"
      ],
      "metadata": {
        "id": "TBkUTGA2dz_5",
        "colab": {
          "base_uri": "https://localhost:8080/"
        },
        "outputId": "b243cf59-16a8-49fc-8850-7ddb67884d31"
      },
      "execution_count": 11,
      "outputs": [
        {
          "output_type": "stream",
          "name": "stdout",
          "text": [
            "\n",
            "Test set score with best model: (test_score:.4f}\n"
          ]
        }
      ]
    }
  ]
}